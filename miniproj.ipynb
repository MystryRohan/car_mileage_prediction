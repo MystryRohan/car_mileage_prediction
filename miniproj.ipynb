{
 "cells": [
  {
   "cell_type": "markdown",
   "metadata": {},
   "source": [
    "# Multiple Linear Regression"
   ]
  },
  {
   "cell_type": "code",
   "execution_count": 1,
   "metadata": {},
   "outputs": [],
   "source": [
    "import numpy as np\n",
    "import pandas as pd\n",
    "import matplotlib.pyplot as plt\n",
    "import seaborn as sns"
   ]
  },
  {
   "cell_type": "code",
   "execution_count": 2,
   "metadata": {},
   "outputs": [
    {
     "data": {
      "text/html": [
       "<div>\n",
       "<style scoped>\n",
       "    .dataframe tbody tr th:only-of-type {\n",
       "        vertical-align: middle;\n",
       "    }\n",
       "\n",
       "    .dataframe tbody tr th {\n",
       "        vertical-align: top;\n",
       "    }\n",
       "\n",
       "    .dataframe thead th {\n",
       "        text-align: right;\n",
       "    }\n",
       "</style>\n",
       "<table border=\"1\" class=\"dataframe\">\n",
       "  <thead>\n",
       "    <tr style=\"text-align: right;\">\n",
       "      <th></th>\n",
       "      <th>mpg</th>\n",
       "      <th>cylinders</th>\n",
       "      <th>displacement</th>\n",
       "      <th>horsepower</th>\n",
       "      <th>weight</th>\n",
       "      <th>acceleration</th>\n",
       "      <th>model year</th>\n",
       "      <th>origin</th>\n",
       "      <th>car name</th>\n",
       "    </tr>\n",
       "  </thead>\n",
       "  <tbody>\n",
       "    <tr>\n",
       "      <th>0</th>\n",
       "      <td>18.0</td>\n",
       "      <td>8</td>\n",
       "      <td>307.0</td>\n",
       "      <td>130</td>\n",
       "      <td>3504</td>\n",
       "      <td>12.0</td>\n",
       "      <td>70</td>\n",
       "      <td>1</td>\n",
       "      <td>chevrolet chevelle malibu</td>\n",
       "    </tr>\n",
       "    <tr>\n",
       "      <th>1</th>\n",
       "      <td>15.0</td>\n",
       "      <td>8</td>\n",
       "      <td>350.0</td>\n",
       "      <td>165</td>\n",
       "      <td>3693</td>\n",
       "      <td>11.5</td>\n",
       "      <td>70</td>\n",
       "      <td>1</td>\n",
       "      <td>buick skylark 320</td>\n",
       "    </tr>\n",
       "    <tr>\n",
       "      <th>2</th>\n",
       "      <td>18.0</td>\n",
       "      <td>8</td>\n",
       "      <td>318.0</td>\n",
       "      <td>150</td>\n",
       "      <td>3436</td>\n",
       "      <td>11.0</td>\n",
       "      <td>70</td>\n",
       "      <td>1</td>\n",
       "      <td>plymouth satellite</td>\n",
       "    </tr>\n",
       "    <tr>\n",
       "      <th>3</th>\n",
       "      <td>16.0</td>\n",
       "      <td>8</td>\n",
       "      <td>304.0</td>\n",
       "      <td>150</td>\n",
       "      <td>3433</td>\n",
       "      <td>12.0</td>\n",
       "      <td>70</td>\n",
       "      <td>1</td>\n",
       "      <td>amc rebel sst</td>\n",
       "    </tr>\n",
       "    <tr>\n",
       "      <th>4</th>\n",
       "      <td>17.0</td>\n",
       "      <td>8</td>\n",
       "      <td>302.0</td>\n",
       "      <td>140</td>\n",
       "      <td>3449</td>\n",
       "      <td>10.5</td>\n",
       "      <td>70</td>\n",
       "      <td>1</td>\n",
       "      <td>ford torino</td>\n",
       "    </tr>\n",
       "  </tbody>\n",
       "</table>\n",
       "</div>"
      ],
      "text/plain": [
       "    mpg  cylinders  displacement  horsepower  weight  acceleration  \\\n",
       "0  18.0          8         307.0         130    3504          12.0   \n",
       "1  15.0          8         350.0         165    3693          11.5   \n",
       "2  18.0          8         318.0         150    3436          11.0   \n",
       "3  16.0          8         304.0         150    3433          12.0   \n",
       "4  17.0          8         302.0         140    3449          10.5   \n",
       "\n",
       "   model year  origin                   car name  \n",
       "0          70       1  chevrolet chevelle malibu  \n",
       "1          70       1          buick skylark 320  \n",
       "2          70       1         plymouth satellite  \n",
       "3          70       1              amc rebel sst  \n",
       "4          70       1                ford torino  "
      ]
     },
     "execution_count": 2,
     "metadata": {},
     "output_type": "execute_result"
    }
   ],
   "source": [
    "dataset = pd.read_csv(\"./auto-mpg.csv\")\n",
    "dataset.head()"
   ]
  },
  {
   "cell_type": "code",
   "execution_count": 3,
   "metadata": {},
   "outputs": [],
   "source": [
    "models = []\n",
    "models_mae = []\n",
    "models_rmse = []"
   ]
  },
  {
   "cell_type": "code",
   "execution_count": 4,
   "metadata": {},
   "outputs": [
    {
     "data": {
      "text/plain": [
       "(398, 9)"
      ]
     },
     "execution_count": 4,
     "metadata": {},
     "output_type": "execute_result"
    }
   ],
   "source": [
    "dataset.shape"
   ]
  },
  {
   "cell_type": "code",
   "execution_count": 5,
   "metadata": {},
   "outputs": [
    {
     "data": {
      "text/plain": [
       "Index(['mpg', 'cylinders', 'displacement', 'horsepower', 'weight',\n",
       "       'acceleration', 'model year', 'origin', 'car name'],\n",
       "      dtype='object')"
      ]
     },
     "execution_count": 5,
     "metadata": {},
     "output_type": "execute_result"
    }
   ],
   "source": [
    "dataset.columns"
   ]
  },
  {
   "cell_type": "code",
   "execution_count": 6,
   "metadata": {},
   "outputs": [
    {
     "name": "stdout",
     "output_type": "stream",
     "text": [
      "<class 'pandas.core.frame.DataFrame'>\n",
      "RangeIndex: 398 entries, 0 to 397\n",
      "Data columns (total 9 columns):\n",
      " #   Column        Non-Null Count  Dtype  \n",
      "---  ------        --------------  -----  \n",
      " 0   mpg           398 non-null    float64\n",
      " 1   cylinders     398 non-null    int64  \n",
      " 2   displacement  398 non-null    float64\n",
      " 3   horsepower    398 non-null    int64  \n",
      " 4   weight        398 non-null    int64  \n",
      " 5   acceleration  398 non-null    float64\n",
      " 6   model year    398 non-null    int64  \n",
      " 7   origin        398 non-null    int64  \n",
      " 8   car name      398 non-null    object \n",
      "dtypes: float64(3), int64(5), object(1)\n",
      "memory usage: 28.1+ KB\n"
     ]
    }
   ],
   "source": [
    "dataset.info()"
   ]
  },
  {
   "cell_type": "code",
   "execution_count": 7,
   "metadata": {},
   "outputs": [
    {
     "data": {
      "text/html": [
       "<div>\n",
       "<style scoped>\n",
       "    .dataframe tbody tr th:only-of-type {\n",
       "        vertical-align: middle;\n",
       "    }\n",
       "\n",
       "    .dataframe tbody tr th {\n",
       "        vertical-align: top;\n",
       "    }\n",
       "\n",
       "    .dataframe thead th {\n",
       "        text-align: right;\n",
       "    }\n",
       "</style>\n",
       "<table border=\"1\" class=\"dataframe\">\n",
       "  <thead>\n",
       "    <tr style=\"text-align: right;\">\n",
       "      <th></th>\n",
       "      <th>mpg</th>\n",
       "      <th>cylinders</th>\n",
       "      <th>displacement</th>\n",
       "      <th>horsepower</th>\n",
       "      <th>weight</th>\n",
       "      <th>acceleration</th>\n",
       "      <th>model year</th>\n",
       "      <th>origin</th>\n",
       "    </tr>\n",
       "  </thead>\n",
       "  <tbody>\n",
       "    <tr>\n",
       "      <th>count</th>\n",
       "      <td>398.000000</td>\n",
       "      <td>398.000000</td>\n",
       "      <td>398.000000</td>\n",
       "      <td>398.000000</td>\n",
       "      <td>398.000000</td>\n",
       "      <td>398.000000</td>\n",
       "      <td>398.000000</td>\n",
       "      <td>398.000000</td>\n",
       "    </tr>\n",
       "    <tr>\n",
       "      <th>mean</th>\n",
       "      <td>23.514573</td>\n",
       "      <td>5.454774</td>\n",
       "      <td>193.425879</td>\n",
       "      <td>104.253769</td>\n",
       "      <td>2970.424623</td>\n",
       "      <td>15.568090</td>\n",
       "      <td>76.010050</td>\n",
       "      <td>1.572864</td>\n",
       "    </tr>\n",
       "    <tr>\n",
       "      <th>std</th>\n",
       "      <td>7.815984</td>\n",
       "      <td>1.701004</td>\n",
       "      <td>104.269838</td>\n",
       "      <td>38.266840</td>\n",
       "      <td>846.841774</td>\n",
       "      <td>2.757689</td>\n",
       "      <td>3.697627</td>\n",
       "      <td>0.802055</td>\n",
       "    </tr>\n",
       "    <tr>\n",
       "      <th>min</th>\n",
       "      <td>9.000000</td>\n",
       "      <td>3.000000</td>\n",
       "      <td>68.000000</td>\n",
       "      <td>46.000000</td>\n",
       "      <td>1613.000000</td>\n",
       "      <td>8.000000</td>\n",
       "      <td>70.000000</td>\n",
       "      <td>1.000000</td>\n",
       "    </tr>\n",
       "    <tr>\n",
       "      <th>25%</th>\n",
       "      <td>17.500000</td>\n",
       "      <td>4.000000</td>\n",
       "      <td>104.250000</td>\n",
       "      <td>75.250000</td>\n",
       "      <td>2223.750000</td>\n",
       "      <td>13.825000</td>\n",
       "      <td>73.000000</td>\n",
       "      <td>1.000000</td>\n",
       "    </tr>\n",
       "    <tr>\n",
       "      <th>50%</th>\n",
       "      <td>23.000000</td>\n",
       "      <td>4.000000</td>\n",
       "      <td>148.500000</td>\n",
       "      <td>93.500000</td>\n",
       "      <td>2803.500000</td>\n",
       "      <td>15.500000</td>\n",
       "      <td>76.000000</td>\n",
       "      <td>1.000000</td>\n",
       "    </tr>\n",
       "    <tr>\n",
       "      <th>75%</th>\n",
       "      <td>29.000000</td>\n",
       "      <td>8.000000</td>\n",
       "      <td>262.000000</td>\n",
       "      <td>125.000000</td>\n",
       "      <td>3608.000000</td>\n",
       "      <td>17.175000</td>\n",
       "      <td>79.000000</td>\n",
       "      <td>2.000000</td>\n",
       "    </tr>\n",
       "    <tr>\n",
       "      <th>max</th>\n",
       "      <td>46.600000</td>\n",
       "      <td>8.000000</td>\n",
       "      <td>455.000000</td>\n",
       "      <td>230.000000</td>\n",
       "      <td>5140.000000</td>\n",
       "      <td>24.800000</td>\n",
       "      <td>82.000000</td>\n",
       "      <td>3.000000</td>\n",
       "    </tr>\n",
       "  </tbody>\n",
       "</table>\n",
       "</div>"
      ],
      "text/plain": [
       "              mpg   cylinders  displacement  horsepower       weight  \\\n",
       "count  398.000000  398.000000    398.000000  398.000000   398.000000   \n",
       "mean    23.514573    5.454774    193.425879  104.253769  2970.424623   \n",
       "std      7.815984    1.701004    104.269838   38.266840   846.841774   \n",
       "min      9.000000    3.000000     68.000000   46.000000  1613.000000   \n",
       "25%     17.500000    4.000000    104.250000   75.250000  2223.750000   \n",
       "50%     23.000000    4.000000    148.500000   93.500000  2803.500000   \n",
       "75%     29.000000    8.000000    262.000000  125.000000  3608.000000   \n",
       "max     46.600000    8.000000    455.000000  230.000000  5140.000000   \n",
       "\n",
       "       acceleration  model year      origin  \n",
       "count    398.000000  398.000000  398.000000  \n",
       "mean      15.568090   76.010050    1.572864  \n",
       "std        2.757689    3.697627    0.802055  \n",
       "min        8.000000   70.000000    1.000000  \n",
       "25%       13.825000   73.000000    1.000000  \n",
       "50%       15.500000   76.000000    1.000000  \n",
       "75%       17.175000   79.000000    2.000000  \n",
       "max       24.800000   82.000000    3.000000  "
      ]
     },
     "execution_count": 7,
     "metadata": {},
     "output_type": "execute_result"
    }
   ],
   "source": [
    "dataset.describe() # use when null values are found"
   ]
  },
  {
   "cell_type": "code",
   "execution_count": 8,
   "metadata": {},
   "outputs": [],
   "source": [
    "# dataset.describe(include ='object')"
   ]
  },
  {
   "cell_type": "markdown",
   "metadata": {},
   "source": [
    "## Data Preprocessing"
   ]
  },
  {
   "cell_type": "markdown",
   "metadata": {},
   "source": [
    "### EXTRACTING DEPENDENT AND INDEPENDENT VARIABLE"
   ]
  },
  {
   "cell_type": "code",
   "execution_count": 9,
   "metadata": {},
   "outputs": [],
   "source": [
    "X = dataset.iloc[:,1:-2].values\n",
    "Y = dataset.iloc[:,0].values"
   ]
  },
  {
   "cell_type": "code",
   "execution_count": 10,
   "metadata": {},
   "outputs": [
    {
     "name": "stdout",
     "output_type": "stream",
     "text": [
      "[[   8.   307.   130.  3504.    12.    70. ]\n",
      " [   8.   350.   165.  3693.    11.5   70. ]\n",
      " [   8.   318.   150.  3436.    11.    70. ]\n",
      " [   8.   304.   150.  3433.    12.    70. ]\n",
      " [   8.   302.   140.  3449.    10.5   70. ]]\n"
     ]
    }
   ],
   "source": [
    "print(X[:5])"
   ]
  },
  {
   "cell_type": "code",
   "execution_count": 11,
   "metadata": {},
   "outputs": [
    {
     "name": "stdout",
     "output_type": "stream",
     "text": [
      "[18. 15. 18. 16. 17.]\n"
     ]
    }
   ],
   "source": [
    "print(Y[:5])"
   ]
  },
  {
   "cell_type": "markdown",
   "metadata": {},
   "source": [
    "### Splitting, training and testing"
   ]
  },
  {
   "cell_type": "code",
   "execution_count": 12,
   "metadata": {},
   "outputs": [],
   "source": [
    "from sklearn.model_selection import train_test_split\n",
    "X_train,X_test,Y_train,Y_test = train_test_split(X,Y,test_size = 0.15,random_state = 67)"
   ]
  },
  {
   "cell_type": "code",
   "execution_count": 13,
   "metadata": {},
   "outputs": [
    {
     "name": "stdout",
     "output_type": "stream",
     "text": [
      "[[4.000e+00 1.400e+02 7.200e+01 2.565e+03 1.360e+01 7.600e+01]\n",
      " [4.000e+00 1.510e+02 9.000e+01 2.735e+03 1.800e+01 8.200e+01]\n",
      " [8.000e+00 3.500e+02 1.650e+02 4.274e+03 1.200e+01 7.200e+01]\n",
      " [4.000e+00 8.500e+01 6.500e+01 2.020e+03 1.920e+01 7.900e+01]\n",
      " [4.000e+00 9.800e+01 6.800e+01 2.155e+03 1.650e+01 7.800e+01]]\n"
     ]
    }
   ],
   "source": [
    "print(X_train[:5])"
   ]
  },
  {
   "cell_type": "code",
   "execution_count": 14,
   "metadata": {},
   "outputs": [
    {
     "name": "stdout",
     "output_type": "stream",
     "text": [
      "[[   4.    91.    68.  1985.    16.    81. ]\n",
      " [   6.   231.   105.  3380.    15.8   78. ]\n",
      " [   4.   119.    82.  2720.    19.4   82. ]\n",
      " [   4.   119.    97.  2300.    14.7   78. ]\n",
      " [   4.   121.   110.  2660.    14.    73. ]]\n"
     ]
    }
   ],
   "source": [
    "print(X_test[:5])"
   ]
  },
  {
   "cell_type": "code",
   "execution_count": 15,
   "metadata": {},
   "outputs": [
    {
     "name": "stdout",
     "output_type": "stream",
     "text": [
      "[26.5 27.  13.  31.8 30. ]\n"
     ]
    }
   ],
   "source": [
    "print(Y_train[:5])"
   ]
  },
  {
   "cell_type": "code",
   "execution_count": 16,
   "metadata": {},
   "outputs": [
    {
     "name": "stdout",
     "output_type": "stream",
     "text": [
      "[34.1 20.6 31.  27.2 24.  16.  32.9 23.  32.4 19.2 23.  35.  30.  15.5\n",
      " 36.4 34.  19.1 24.  17.5 28.4 15.  15.  19.2 33.5 25.  30.  24.  20.\n",
      " 33.5 13.  25.  23.2 14.  21.  23.8 13.  16.  21.  17.5 29.  15.  13.\n",
      " 44.6 18.  15.  32.  29.8 31.6 20.  30.  23.  40.9 36.  25.  19.  13.\n",
      " 25.4 33.7 19.  21.5]\n"
     ]
    }
   ],
   "source": [
    "print(Y_test)"
   ]
  },
  {
   "cell_type": "markdown",
   "metadata": {},
   "source": [
    "## Build multiple linear regression model "
   ]
  },
  {
   "cell_type": "code",
   "execution_count": 17,
   "metadata": {},
   "outputs": [
    {
     "data": {
      "text/plain": [
       "LinearRegression()"
      ]
     },
     "execution_count": 17,
     "metadata": {},
     "output_type": "execute_result"
    }
   ],
   "source": [
    "from sklearn.linear_model import LinearRegression\n",
    "mreg = LinearRegression()\n",
    "mreg.fit(X_train,Y_train)"
   ]
  },
  {
   "cell_type": "code",
   "execution_count": 18,
   "metadata": {},
   "outputs": [
    {
     "name": "stdout",
     "output_type": "stream",
     "text": [
      "Coefficient of our model [-0.30259234  0.01430265 -0.00243143 -0.00737306  0.12719853  0.74473781]\n",
      "Intercept of our model -13.989376270782014\n"
     ]
    }
   ],
   "source": [
    "#check attribute of our model\n",
    "print(\"Coefficient of our model\", mreg.coef_)\n",
    "print(\"Intercept of our model\", mreg.intercept_)"
   ]
  },
  {
   "cell_type": "code",
   "execution_count": 19,
   "metadata": {},
   "outputs": [
    {
     "name": "stdout",
     "output_type": "stream",
     "text": [
      "Accuracy of model =  0.8130073180094531\n"
     ]
    }
   ],
   "source": [
    "# accuracy of model\n",
    "print(\"Accuracy of model = \",mreg.score(X_train,Y_train))"
   ]
  },
  {
   "cell_type": "code",
   "execution_count": 20,
   "metadata": {},
   "outputs": [
    {
     "name": "stdout",
     "output_type": "stream",
     "text": [
      "[33.65987038 22.42201963 29.78431724 29.26774714 22.79771375]\n"
     ]
    }
   ],
   "source": [
    "# predicting the test data\n",
    "yhat = mreg.predict(X_test)\n",
    "print(yhat[:5])"
   ]
  },
  {
   "cell_type": "code",
   "execution_count": 21,
   "metadata": {},
   "outputs": [
    {
     "name": "stdout",
     "output_type": "stream",
     "text": [
      "Accuracy of model =  1.0\n"
     ]
    }
   ],
   "source": [
    "print(\"Accuracy of model = \",mreg.score(X_test,yhat))"
   ]
  },
  {
   "cell_type": "code",
   "execution_count": 22,
   "metadata": {},
   "outputs": [],
   "source": [
    "# print(Y_test)\n",
    "# print (yhat)"
   ]
  },
  {
   "cell_type": "markdown",
   "metadata": {},
   "source": [
    "## Variance Score of predicted values"
   ]
  },
  {
   "cell_type": "code",
   "execution_count": 23,
   "metadata": {},
   "outputs": [
    {
     "name": "stdout",
     "output_type": "stream",
     "text": [
      "Variance Score: 0.7734273710711153\n"
     ]
    }
   ],
   "source": [
    "print('Variance Score: {}'.format(mreg.score(X_test,Y_test)))"
   ]
  },
  {
   "cell_type": "markdown",
   "metadata": {},
   "source": [
    "## Goodness of fit\n"
   ]
  },
  {
   "cell_type": "code",
   "execution_count": 24,
   "metadata": {},
   "outputs": [
    {
     "name": "stdout",
     "output_type": "stream",
     "text": [
      "0.7734273710711153\n",
      "2.8597356333749118\n",
      "13.3692420946819\n"
     ]
    }
   ],
   "source": [
    "from sklearn.metrics import mean_absolute_error, mean_squared_error, r2_score\n",
    "r2 = r2_score(Y_test,yhat)\n",
    "print(r2)\n",
    "\n",
    "mae = mean_absolute_error(Y_test,yhat)\n",
    "print(mae)\n",
    "\n",
    "mse = mean_squared_error(Y_test,yhat)\n",
    "print(mse)\n",
    "\n",
    "from math import sqrt\n",
    "models_rmse.append(sqrt(mse))\n",
    "models_mae.append(mae)\n",
    "row = r2\n",
    "models.append(row)"
   ]
  },
  {
   "cell_type": "markdown",
   "metadata": {},
   "source": [
    "# plot for residual error \n",
    "  \n",
    "## setting plot style "
   ]
  },
  {
   "cell_type": "code",
   "execution_count": 25,
   "metadata": {},
   "outputs": [],
   "source": [
    "plt.style.use('fivethirtyeight') "
   ]
  },
  {
   "cell_type": "code",
   "execution_count": 26,
   "metadata": {},
   "outputs": [
    {
     "data": {
      "text/plain": [
       "<matplotlib.collections.PathCollection at 0x1eacb922c70>"
      ]
     },
     "execution_count": 26,
     "metadata": {},
     "output_type": "execute_result"
    },
    {
     "data": {
      "image/png": "[encoded data removed]",
      "text/plain": [
       "<Figure size 432x288 with 1 Axes>"
      ]
     },
     "metadata": {},
     "output_type": "display_data"
    }
   ],
   "source": [
    "plt.scatter(mreg.predict(X_train), mreg.predict(X_train) - Y_train,color = \"green\", s = 10, label = 'Train data') "
   ]
  },
  {
   "cell_type": "markdown",
   "metadata": {},
   "source": [
    "## residual Error"
   ]
  },
  {
   "cell_type": "code",
   "execution_count": 27,
   "metadata": {},
   "outputs": [
    {
     "data": {
      "text/plain": [
       "<matplotlib.collections.PathCollection at 0x1eacba481c0>"
      ]
     },
     "execution_count": 27,
     "metadata": {},
     "output_type": "execute_result"
    },
    {
     "data": {
      "image/png": "[encoded data removed]",
      "text/plain": [
       "<Figure size 432x288 with 1 Axes>"
      ]
     },
     "metadata": {},
     "output_type": "display_data"
    }
   ],
   "source": [
    "plt.scatter(mreg.predict(X_test), mreg.predict(X_test) - Y_test,color = \"blue\", s = 10, label = 'Test data') "
   ]
  },
  {
   "cell_type": "markdown",
   "metadata": {},
   "source": [
    "# Decision Tree"
   ]
  },
  {
   "cell_type": "code",
   "execution_count": 28,
   "metadata": {},
   "outputs": [
    {
     "name": "stdout",
     "output_type": "stream",
     "text": [
      "[[4.000e+00 1.400e+02 7.200e+01 2.565e+03 1.360e+01 7.600e+01]\n",
      " [4.000e+00 1.510e+02 9.000e+01 2.735e+03 1.800e+01 8.200e+01]\n",
      " [8.000e+00 3.500e+02 1.650e+02 4.274e+03 1.200e+01 7.200e+01]\n",
      " [4.000e+00 8.500e+01 6.500e+01 2.020e+03 1.920e+01 7.900e+01]\n",
      " [4.000e+00 9.800e+01 6.800e+01 2.155e+03 1.650e+01 7.800e+01]]\n",
      "[[   4.    91.    68.  1985.    16.    81. ]\n",
      " [   6.   231.   105.  3380.    15.8   78. ]\n",
      " [   4.   119.    82.  2720.    19.4   82. ]\n",
      " [   4.   119.    97.  2300.    14.7   78. ]\n",
      " [   4.   121.   110.  2660.    14.    73. ]]\n",
      "[34.1 20.6 31.  27.2 24. ]\n",
      "[26.5 27.  13.  31.8 30. ]\n"
     ]
    }
   ],
   "source": [
    "print(X_train[:5])\n",
    "print(X_test[:5])\n",
    "print(Y_test[:5])\n",
    "print(Y_train[:5])"
   ]
  },
  {
   "cell_type": "code",
   "execution_count": 29,
   "metadata": {},
   "outputs": [
    {
     "data": {
      "text/plain": [
       "DecisionTreeRegressor(max_depth=5)"
      ]
     },
     "execution_count": 29,
     "metadata": {},
     "output_type": "execute_result"
    }
   ],
   "source": [
    "from sklearn.tree import DecisionTreeRegressor\n",
    "reg = DecisionTreeRegressor(max_depth = 5)\n",
    "reg.fit(X_train,Y_train)"
   ]
  },
  {
   "cell_type": "code",
   "execution_count": 30,
   "metadata": {},
   "outputs": [],
   "source": [
    "y_pred = reg.predict(X_test)"
   ]
  },
  {
   "cell_type": "code",
   "execution_count": 31,
   "metadata": {},
   "outputs": [
    {
     "name": "stdout",
     "output_type": "stream",
     "text": [
      "Accuracy of model =  0.9287321025038034\n"
     ]
    }
   ],
   "source": [
    "print(\"Accuracy of model = \",reg.score(X_train,Y_train))"
   ]
  },
  {
   "cell_type": "code",
   "execution_count": 32,
   "metadata": {},
   "outputs": [
    {
     "name": "stdout",
     "output_type": "stream",
     "text": [
      "Accuracy of model =  1.0\n"
     ]
    }
   ],
   "source": [
    "print(\"Accuracy of model = \",reg.score(X_test,y_pred))"
   ]
  },
  {
   "cell_type": "code",
   "execution_count": 33,
   "metadata": {},
   "outputs": [
    {
     "name": "stdout",
     "output_type": "stream",
     "text": [
      "Variance Score: 0.7368856316786296\n"
     ]
    }
   ],
   "source": [
    "print('Variance Score: {}'.format(reg.score(X_test,Y_test)))"
   ]
  },
  {
   "cell_type": "code",
   "execution_count": 34,
   "metadata": {},
   "outputs": [
    {
     "data": {
      "text/plain": [
       "array([0.82858678, 0.78608274, 0.77262765, 0.86153547, 0.7828252 ,\n",
       "       0.76734585, 0.80475805, 0.89957281, 0.77047208, 0.80630994])"
      ]
     },
     "execution_count": 34,
     "metadata": {},
     "output_type": "execute_result"
    }
   ],
   "source": [
    "from sklearn.model_selection import cross_val_score\n",
    "cross_val_score(reg, X_train, Y_train, cv=10)"
   ]
  },
  {
   "cell_type": "code",
   "execution_count": 35,
   "metadata": {},
   "outputs": [
    {
     "name": "stdout",
     "output_type": "stream",
     "text": [
      "0.7368856316786296\n",
      "2.95371040801304\n",
      "15.525439702523807\n"
     ]
    }
   ],
   "source": [
    "r_squared = r2_score(Y_test,y_pred)\n",
    "print(r_squared)\n",
    "\n",
    "mae = mean_absolute_error(Y_test,y_pred)\n",
    "print(mae)\n",
    "\n",
    "mse = mean_squared_error(Y_test,y_pred)\n",
    "print(mse)\n",
    "\n",
    "row = r_squared\n",
    "models.append(row)\n",
    "models_rmse.append(sqrt(mse))\n",
    "models_mae.append(mae)"
   ]
  },
  {
   "cell_type": "code",
   "execution_count": 36,
   "metadata": {},
   "outputs": [
    {
     "name": "stdout",
     "output_type": "stream",
     "text": [
      "|--- feature_0 <= 4.50\n",
      "|   |--- feature_2 <= 70.50\n",
      "|   |   |--- feature_5 <= 77.50\n",
      "|   |   |   |--- feature_3 <= 1829.50\n",
      "|   |   |   |   |--- feature_5 <= 76.50\n",
      "|   |   |   |   |   |--- value: [32.60]\n",
      "|   |   |   |   |--- feature_5 >  76.50\n",
      "|   |   |   |   |   |--- value: [36.00]\n",
      "|   |   |   |--- feature_3 >  1829.50\n",
      "|   |   |   |   |--- feature_5 <= 73.50\n",
      "|   |   |   |   |   |--- value: [26.14]\n",
      "|   |   |   |   |--- feature_5 >  73.50\n",
      "|   |   |   |   |   |--- value: [29.86]\n",
      "|   |   |--- feature_5 >  77.50\n",
      "|   |   |   |--- feature_4 <= 21.10\n",
      "|   |   |   |   |--- feature_1 <= 94.00\n",
      "|   |   |   |   |   |--- value: [37.16]\n",
      "|   |   |   |   |--- feature_1 >  94.00\n",
      "|   |   |   |   |   |--- value: [33.50]\n",
      "|   |   |   |--- feature_4 >  21.10\n",
      "|   |   |   |   |--- feature_3 <= 2035.00\n",
      "|   |   |   |   |   |--- value: [43.10]\n",
      "|   |   |   |   |--- feature_3 >  2035.00\n",
      "|   |   |   |   |   |--- value: [43.90]\n",
      "|   |--- feature_2 >  70.50\n",
      "|   |   |--- feature_5 <= 78.50\n",
      "|   |   |   |--- feature_3 <= 2271.50\n",
      "|   |   |   |   |--- feature_1 <= 79.00\n",
      "|   |   |   |   |   |--- value: [18.00]\n",
      "|   |   |   |   |--- feature_1 >  79.00\n",
      "|   |   |   |   |   |--- value: [27.18]\n",
      "|   |   |   |--- feature_3 >  2271.50\n",
      "|   |   |   |   |--- feature_3 <= 2775.00\n",
      "|   |   |   |   |   |--- value: [23.67]\n",
      "|   |   |   |   |--- feature_3 >  2775.00\n",
      "|   |   |   |   |   |--- value: [20.45]\n",
      "|   |   |--- feature_5 >  78.50\n",
      "|   |   |   |--- feature_3 <= 2407.50\n",
      "|   |   |   |   |--- feature_4 <= 12.95\n",
      "|   |   |   |   |   |--- value: [31.00]\n",
      "|   |   |   |   |--- feature_4 >  12.95\n",
      "|   |   |   |   |   |--- value: [34.79]\n",
      "|   |   |   |--- feature_3 >  2407.50\n",
      "|   |   |   |   |--- feature_3 <= 2580.00\n",
      "|   |   |   |   |   |--- value: [30.39]\n",
      "|   |   |   |   |--- feature_3 >  2580.00\n",
      "|   |   |   |   |   |--- value: [26.83]\n",
      "|--- feature_0 >  4.50\n",
      "|   |--- feature_2 <= 139.50\n",
      "|   |   |--- feature_5 <= 79.50\n",
      "|   |   |   |--- feature_3 <= 2917.00\n",
      "|   |   |   |   |--- feature_4 <= 12.95\n",
      "|   |   |   |   |   |--- value: [27.80]\n",
      "|   |   |   |   |--- feature_4 >  12.95\n",
      "|   |   |   |   |   |--- value: [20.53]\n",
      "|   |   |   |--- feature_3 >  2917.00\n",
      "|   |   |   |   |--- feature_3 <= 3903.50\n",
      "|   |   |   |   |   |--- value: [18.82]\n",
      "|   |   |   |   |--- feature_3 >  3903.50\n",
      "|   |   |   |   |   |--- value: [15.43]\n",
      "|   |   |--- feature_5 >  79.50\n",
      "|   |   |   |--- feature_1 <= 247.00\n",
      "|   |   |   |   |--- feature_1 <= 170.50\n",
      "|   |   |   |   |   |--- value: [28.25]\n",
      "|   |   |   |   |--- feature_1 >  170.50\n",
      "|   |   |   |   |   |--- value: [21.78]\n",
      "|   |   |   |--- feature_1 >  247.00\n",
      "|   |   |   |   |--- feature_3 <= 3370.00\n",
      "|   |   |   |   |   |--- value: [38.00]\n",
      "|   |   |   |   |--- feature_3 >  3370.00\n",
      "|   |   |   |   |   |--- value: [26.60]\n",
      "|   |--- feature_2 >  139.50\n",
      "|   |   |--- feature_5 <= 74.50\n",
      "|   |   |   |--- feature_3 <= 4358.50\n",
      "|   |   |   |   |--- feature_3 <= 3506.00\n",
      "|   |   |   |   |   |--- value: [16.00]\n",
      "|   |   |   |   |--- feature_3 >  3506.00\n",
      "|   |   |   |   |   |--- value: [14.23]\n",
      "|   |   |   |--- feature_3 >  4358.50\n",
      "|   |   |   |   |--- feature_5 <= 70.50\n",
      "|   |   |   |   |   |--- value: [10.80]\n",
      "|   |   |   |   |--- feature_5 >  70.50\n",
      "|   |   |   |   |   |--- value: [12.70]\n",
      "|   |   |--- feature_5 >  74.50\n",
      "|   |   |   |--- feature_5 <= 77.50\n",
      "|   |   |   |   |--- feature_3 <= 4040.00\n",
      "|   |   |   |   |   |--- value: [13.00]\n",
      "|   |   |   |   |--- feature_3 >  4040.00\n",
      "|   |   |   |   |   |--- value: [15.71]\n",
      "|   |   |   |--- feature_5 >  77.50\n",
      "|   |   |   |   |--- feature_4 <= 14.00\n",
      "|   |   |   |   |   |--- value: [18.27]\n",
      "|   |   |   |   |--- feature_4 >  14.00\n",
      "|   |   |   |   |   |--- value: [16.20]\n",
      "\n"
     ]
    }
   ],
   "source": [
    "from sklearn import tree\n",
    "text_representation = tree.export_text(reg)\n",
    "print(text_representation)"
   ]
  },
  {
   "cell_type": "code",
   "execution_count": 37,
   "metadata": {},
   "outputs": [
    {
     "data": {
      "image/png": "[encoded data removed]",
      "text/plain": [
       "<Figure size 1800x1440 with 1 Axes>"
      ]
     },
     "metadata": {},
     "output_type": "display_data"
    }
   ],
   "source": [
    "fig = plt.figure(figsize=(25,20))\n",
    "tree.plot_tree(reg)\n",
    "plt.show()"
   ]
  },
  {
   "cell_type": "code",
   "execution_count": 38,
   "metadata": {},
   "outputs": [
    {
     "name": "stdout",
     "output_type": "stream",
     "text": [
      "0.6060236390761735\n",
      "3.448244574317521\n",
      "22.65659940375716\n"
     ]
    }
   ],
   "source": [
    "from sklearn.metrics import r2_score\n",
    "from sklearn.svm import SVR\n",
    "svr = SVR()\n",
    "gg = svr.fit(X_train, Y_train)\n",
    "predictions = svr.predict(X_test)\n",
    "\n",
    "r_squared = r2_score(y_pred, predictions)\n",
    "print(r_squared)\n",
    "\n",
    "mae = mean_absolute_error(Y_test,predictions)\n",
    "print(mae)\n",
    "\n",
    "mse = mean_squared_error(Y_test,predictions)\n",
    "print(mse)\n",
    "\n",
    "models_rmse.append(sqrt(mse))\n",
    "models_mae.append(mae)"
   ]
  },
  {
   "cell_type": "code",
   "execution_count": 39,
   "metadata": {},
   "outputs": [
    {
     "data": {
      "text/plain": [
       "array([0.79406879, 0.68348478, 0.50065659, 0.81899071, 0.58966543,\n",
       "       0.64231804, 0.7472614 , 0.70340125, 0.7805161 , 0.62579219])"
      ]
     },
     "execution_count": 39,
     "metadata": {},
     "output_type": "execute_result"
    }
   ],
   "source": [
    "cross_val_score(gg, X_train, Y_train, cv=10)"
   ]
  },
  {
   "cell_type": "code",
   "execution_count": 40,
   "metadata": {},
   "outputs": [
    {
     "data": {
      "text/plain": [
       "1.0"
      ]
     },
     "execution_count": 40,
     "metadata": {},
     "output_type": "execute_result"
    }
   ],
   "source": [
    "gg.score(X_test,predictions)"
   ]
  },
  {
   "cell_type": "code",
   "execution_count": 41,
   "metadata": {},
   "outputs": [
    {
     "name": "stdout",
     "output_type": "stream",
     "text": [
      "Variance Score: 0.6160316902676297\n"
     ]
    }
   ],
   "source": [
    "print('Variance Score: {}'.format(gg.score(X_test,Y_test)))"
   ]
  },
  {
   "cell_type": "code",
   "execution_count": 42,
   "metadata": {},
   "outputs": [],
   "source": [
    "row = r_squared\n",
    "models.append(row)"
   ]
  },
  {
   "cell_type": "markdown",
   "metadata": {},
   "source": [
    "# KNN"
   ]
  },
  {
   "cell_type": "code",
   "execution_count": 43,
   "metadata": {},
   "outputs": [],
   "source": [
    "from sklearn.neighbors import KNeighborsRegressor\n",
    "neigh = KNeighborsRegressor(n_neighbors=2)\n",
    "neigh.fit(X_train, Y_train)\n",
    "\n",
    "knn_predictions = neigh.predict(X_test)"
   ]
  },
  {
   "cell_type": "code",
   "execution_count": 44,
   "metadata": {},
   "outputs": [
    {
     "data": {
      "text/plain": [
       "0.9018916287647447"
      ]
     },
     "execution_count": 44,
     "metadata": {},
     "output_type": "execute_result"
    }
   ],
   "source": [
    "neigh.score(X_train,Y_train)"
   ]
  },
  {
   "cell_type": "code",
   "execution_count": 45,
   "metadata": {},
   "outputs": [
    {
     "name": "stdout",
     "output_type": "stream",
     "text": [
      "Variance Score: 0.6123628709959343\n"
     ]
    }
   ],
   "source": [
    "print('Variance Score: {}'.format(neigh.score(X_test,Y_test)))"
   ]
  },
  {
   "cell_type": "code",
   "execution_count": 46,
   "metadata": {},
   "outputs": [
    {
     "name": "stdout",
     "output_type": "stream",
     "text": [
      "0.5890320403893478\n",
      "3.5700000000000003\n",
      "22.873083333333334\n"
     ]
    }
   ],
   "source": [
    "r_squared = r2_score(y_pred, knn_predictions)\n",
    "print(r_squared)\n",
    "\n",
    "mae = mean_absolute_error(Y_test,knn_predictions)\n",
    "print(mae)\n",
    "\n",
    "mse = mean_squared_error(Y_test,knn_predictions)\n",
    "print(mse)"
   ]
  },
  {
   "cell_type": "code",
   "execution_count": 47,
   "metadata": {},
   "outputs": [],
   "source": [
    "row = r_squared\n",
    "models.append(row)\n",
    "models_rmse.append(sqrt(mse))\n",
    "models_mae.append(mae)"
   ]
  },
  {
   "cell_type": "code",
   "execution_count": 48,
   "metadata": {},
   "outputs": [
    {
     "data": {
      "text/plain": [
       "[0.7734273710711153,\n",
       " 0.7368856316786296,\n",
       " 0.6060236390761735,\n",
       " 0.5890320403893478]"
      ]
     },
     "execution_count": 48,
     "metadata": {},
     "output_type": "execute_result"
    }
   ],
   "source": [
    "models"
   ]
  },
  {
   "cell_type": "code",
   "execution_count": 49,
   "metadata": {},
   "outputs": [
    {
     "data": {
      "image/png": "[encoded data removed]",
      "text/plain": [
       "<Figure size 864x576 with 1 Axes>"
      ]
     },
     "metadata": {},
     "output_type": "display_data"
    }
   ],
   "source": [
    "plt.figure(figsize=(12,8))\n",
    "sns.barplot(x=[\"Linear Reg\",\"Decision Tree\",\"SVR\",\"kNN\"], y=models)\n",
    "plt.title(\"Models' R Sq Scores\", size=16)\n",
    "plt.xticks(rotation=30)\n",
    "plt.show()"
   ]
  },
  {
   "cell_type": "code",
   "execution_count": 50,
   "metadata": {},
   "outputs": [
    {
     "data": {
      "image/png": "[encoded data removed]",
      "text/plain": [
       "<Figure size 864x576 with 1 Axes>"
      ]
     },
     "metadata": {},
     "output_type": "display_data"
    }
   ],
   "source": [
    "plt.figure(figsize=(12,8))\n",
    "sns.barplot(x=[\"Linear Reg\",\"Decision Tree\",\"SVR\",\"kNN\"], y=models_mae)\n",
    "plt.title(\"Models' MAE Scores\", size=16)\n",
    "plt.xticks(rotation=30)\n",
    "plt.show()"
   ]
  },
  {
   "cell_type": "code",
   "execution_count": 51,
   "metadata": {},
   "outputs": [
    {
     "data": {
      "image/png": "[encoded data removed]",
      "text/plain": [
       "<Figure size 864x576 with 1 Axes>"
      ]
     },
     "metadata": {},
     "output_type": "display_data"
    }
   ],
   "source": [
    "plt.figure(figsize=(12,8))\n",
    "sns.barplot(x=[\"Linear Reg\",\"Decision Tree\",\"SVR\",\"kNN\"], y=models_rmse)\n",
    "plt.title(\"Models' RMSE Scores\", size=16)\n",
    "plt.xticks(rotation=30)\n",
    "plt.show()"
   ]
  },
  {
   "cell_type": "code",
   "execution_count": null,
   "metadata": {},
   "outputs": [],
   "source": []
  }
 ],
 "metadata": {
  "kernelspec": {
   "display_name": "Python 3 (ipykernel)",
   "language": "python",
   "name": "python3"
  },
  "language_info": {
   "codemirror_mode": {
    "name": "ipython",
    "version": 3
   },
   "file_extension": ".py",
   "mimetype": "text/x-python",
   "name": "python",
   "nbconvert_exporter": "python",
   "pygments_lexer": "ipython3",
   "version": "3.8.8"
  }
 },
 "nbformat": 4,
 "nbformat_minor": 2
}
